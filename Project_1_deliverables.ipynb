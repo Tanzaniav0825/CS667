{
  "nbformat": 4,
  "nbformat_minor": 0,
  "metadata": {
    "colab": {
      "provenance": [],
      "authorship_tag": "ABX9TyPflDq8lCO7v57YuCUuFNBK",
      "include_colab_link": true
    },
    "kernelspec": {
      "name": "python3",
      "display_name": "Python 3"
    },
    "language_info": {
      "name": "python"
    }
  },
  "cells": [
    {
      "cell_type": "markdown",
      "metadata": {
        "id": "view-in-github",
        "colab_type": "text"
      },
      "source": [
        "<a href=\"https://colab.research.google.com/github/Tanzaniav0825/CS667/blob/main/Project_1_deliverables.ipynb\" target=\"_parent\"><img src=\"https://colab.research.google.com/assets/colab-badge.svg\" alt=\"Open In Colab\"/></a>"
      ]
    },
    {
      "cell_type": "code",
      "source": [
        "!pip install tldextract"
      ],
      "metadata": {
        "colab": {
          "base_uri": "https://localhost:8080/"
        },
        "id": "dgJc_VHLfJef",
        "outputId": "0b23ff07-9309-4c2b-f77e-a65e31fd5b34"
      },
      "execution_count": 2,
      "outputs": [
        {
          "output_type": "stream",
          "name": "stdout",
          "text": [
            "Collecting tldextract\n",
            "  Downloading tldextract-5.1.3-py3-none-any.whl.metadata (11 kB)\n",
            "Requirement already satisfied: idna in /usr/local/lib/python3.11/dist-packages (from tldextract) (3.10)\n",
            "Requirement already satisfied: requests>=2.1.0 in /usr/local/lib/python3.11/dist-packages (from tldextract) (2.32.3)\n",
            "Collecting requests-file>=1.4 (from tldextract)\n",
            "  Downloading requests_file-2.1.0-py2.py3-none-any.whl.metadata (1.7 kB)\n",
            "Requirement already satisfied: filelock>=3.0.8 in /usr/local/lib/python3.11/dist-packages (from tldextract) (3.18.0)\n",
            "Requirement already satisfied: charset-normalizer<4,>=2 in /usr/local/lib/python3.11/dist-packages (from requests>=2.1.0->tldextract) (3.4.1)\n",
            "Requirement already satisfied: urllib3<3,>=1.21.1 in /usr/local/lib/python3.11/dist-packages (from requests>=2.1.0->tldextract) (2.3.0)\n",
            "Requirement already satisfied: certifi>=2017.4.17 in /usr/local/lib/python3.11/dist-packages (from requests>=2.1.0->tldextract) (2025.1.31)\n",
            "Downloading tldextract-5.1.3-py3-none-any.whl (104 kB)\n",
            "\u001b[2K   \u001b[90m━━━━━━━━━━━━━━━━━━━━━━━━━━━━━━━━━━━━━━━━\u001b[0m \u001b[32m104.9/104.9 kB\u001b[0m \u001b[31m2.6 MB/s\u001b[0m eta \u001b[36m0:00:00\u001b[0m\n",
            "\u001b[?25hDownloading requests_file-2.1.0-py2.py3-none-any.whl (4.2 kB)\n",
            "Installing collected packages: requests-file, tldextract\n",
            "Successfully installed requests-file-2.1.0 tldextract-5.1.3\n"
          ]
        }
      ]
    },
    {
      "cell_type": "code",
      "source": [
        "import tldextract\n",
        "from urllib.parse import urlparse\n",
        "import re\n",
        "import random\n",
        "\n",
        "# Simulated ML Scorer (placeholder)\n",
        "def simulate_ml_score():\n",
        "    return round(random.uniform(0.6, 0.95), 2)\n",
        "\n",
        "# Rule-based credibility checker\n",
        "def evaluate_credibility(url: str) -> dict:\n",
        "    explanation_parts = []\n",
        "    score = 0\n",
        "\n",
        "    # Extract domain\n",
        "    ext = tldextract.extract(url)\n",
        "    domain = f\"{ext.domain}.{ext.suffix}\"\n",
        "\n",
        "    # Rule 1: Domain suffix\n",
        "    if ext.suffix in [\"edu\", \"gov\"]:\n",
        "        score += 0.3\n",
        "        explanation_parts.append(\"Government or academic domain.\")\n",
        "    elif ext.suffix in [\"org\"]:\n",
        "        score += 0.2\n",
        "        explanation_parts.append(\"Non-profit domain.\")\n",
        "    else:\n",
        "        score += 0.1\n",
        "        explanation_parts.append(\"Commercial or unknown domain.\")\n",
        "\n",
        "    # Rule 2: Trusted source list\n",
        "    trusted_sources = [\"nature.com\", \"sciencedirect.com\", \"springer.com\", \"jstor.org\", \"arxiv.org\"]\n",
        "    if any(t in url for t in trusted_sources):\n",
        "        score += 0.4\n",
        "        explanation_parts.append(\"Domain is a well-known academic publisher.\")\n",
        "\n",
        "    # Rule 3: Publication recency check (placeholder)\n",
        "    if re.search(r\"/20\\d{2}/\", url):\n",
        "        score += 0.1\n",
        "        explanation_parts.append(\"URL indicates recent publication.\")\n",
        "\n",
        "    # Combine with simulated ML credibility score\n",
        "    ml_score = simulate_ml_score()\n",
        "    score += ml_score * 0.2\n",
        "    explanation_parts.append(\"ML model suggests high relevance and credibility.\")\n",
        "\n",
        "    final_score = min(round(score, 2), 1.0)\n",
        "    explanation = \" \".join(explanation_parts)\n",
        "\n",
        "    return {\"score\": final_score, \"explanation\": explanation}\n"
      ],
      "metadata": {
        "id": "1-2QaqIMe83R"
      },
      "execution_count": 3,
      "outputs": []
    },
    {
      "cell_type": "code",
      "source": [
        "# Example URLs to test\n",
        "test_urls = [\n",
        "    \"https://www.nature.com/articles/s41586-020-03119-7\",\n",
        "    \"https://arxiv.org/abs/2401.04566\",\n",
        "    \"https://buzzrandomfacts.net/article123.html\",\n",
        "    \"https://www.sciencedirect.com/science/article/pii/S0167739X24000430\",\n",
        "    \"https://fakehealthnews.biz/cures-you-dont-know\"\n",
        "]\n",
        "\n",
        "# Run each through the credibility function\n",
        "for url in test_urls:\n",
        "    result = evaluate_credibility(url)\n",
        "    print(f\"URL: {url}\")\n",
        "    print(f\"Score: {result['score']}\")\n",
        "    print(f\"Explanation: {result['explanation']}\")\n",
        "    print(\"-\" * 80)\n"
      ],
      "metadata": {
        "colab": {
          "base_uri": "https://localhost:8080/"
        },
        "id": "rrbtrsfjfoOK",
        "outputId": "f576f1b5-a2d7-4c7b-cac9-00337e9a2aa2"
      },
      "execution_count": 4,
      "outputs": [
        {
          "output_type": "stream",
          "name": "stdout",
          "text": [
            "URL: https://www.nature.com/articles/s41586-020-03119-7\n",
            "Score: 0.64\n",
            "Explanation: Commercial or unknown domain. Domain is a well-known academic publisher. ML model suggests high relevance and credibility.\n",
            "--------------------------------------------------------------------------------\n",
            "URL: https://arxiv.org/abs/2401.04566\n",
            "Score: 0.74\n",
            "Explanation: Non-profit domain. Domain is a well-known academic publisher. ML model suggests high relevance and credibility.\n",
            "--------------------------------------------------------------------------------\n",
            "URL: https://buzzrandomfacts.net/article123.html\n",
            "Score: 0.29\n",
            "Explanation: Commercial or unknown domain. ML model suggests high relevance and credibility.\n",
            "--------------------------------------------------------------------------------\n",
            "URL: https://www.sciencedirect.com/science/article/pii/S0167739X24000430\n",
            "Score: 0.65\n",
            "Explanation: Commercial or unknown domain. Domain is a well-known academic publisher. ML model suggests high relevance and credibility.\n",
            "--------------------------------------------------------------------------------\n",
            "URL: https://fakehealthnews.biz/cures-you-dont-know\n",
            "Score: 0.28\n",
            "Explanation: Commercial or unknown domain. ML model suggests high relevance and credibility.\n",
            "--------------------------------------------------------------------------------\n"
          ]
        }
      ]
    }
  ]
}