{
  "nbformat": 4,
  "nbformat_minor": 0,
  "metadata": {
    "colab": {
      "provenance": [],
      "authorship_tag": "ABX9TyPXSoM9qNi6vOfVqVqmoOjQ",
      "include_colab_link": true
    },
    "kernelspec": {
      "name": "python3",
      "display_name": "Python 3"
    },
    "language_info": {
      "name": "python"
    }
  },
  "cells": [
    {
      "cell_type": "markdown",
      "metadata": {
        "id": "view-in-github",
        "colab_type": "text"
      },
      "source": [
        "<a href=\"https://colab.research.google.com/github/Tanzaniav0825/CS667/blob/main/Projet_1_deliverable_2.ipynb\" target=\"_parent\"><img src=\"https://colab.research.google.com/assets/colab-badge.svg\" alt=\"Open In Colab\"/></a>"
      ]
    },
    {
      "cell_type": "code",
      "execution_count": 2,
      "metadata": {
        "colab": {
          "base_uri": "https://localhost:8080/"
        },
        "id": "BWYNdpsEG-oS",
        "outputId": "f903287e-eaf3-4655-b99f-0075a390c02a"
      },
      "outputs": [
        {
          "output_type": "stream",
          "name": "stdout",
          "text": [
            "Requirement already satisfied: tldextract in /usr/local/lib/python3.11/dist-packages (5.1.3)\n",
            "Requirement already satisfied: idna in /usr/local/lib/python3.11/dist-packages (from tldextract) (3.10)\n",
            "Requirement already satisfied: requests>=2.1.0 in /usr/local/lib/python3.11/dist-packages (from tldextract) (2.32.3)\n",
            "Requirement already satisfied: requests-file>=1.4 in /usr/local/lib/python3.11/dist-packages (from tldextract) (2.1.0)\n",
            "Requirement already satisfied: filelock>=3.0.8 in /usr/local/lib/python3.11/dist-packages (from tldextract) (3.18.0)\n",
            "Requirement already satisfied: charset-normalizer<4,>=2 in /usr/local/lib/python3.11/dist-packages (from requests>=2.1.0->tldextract) (3.4.1)\n",
            "Requirement already satisfied: urllib3<3,>=1.21.1 in /usr/local/lib/python3.11/dist-packages (from requests>=2.1.0->tldextract) (2.3.0)\n",
            "Requirement already satisfied: certifi>=2017.4.17 in /usr/local/lib/python3.11/dist-packages (from requests>=2.1.0->tldextract) (2025.1.31)\n",
            "🔍 Credibility Checker\n",
            "Enter a URL to evaluate:  https://www.nature.com/articles/s41586-020-03119-7\n",
            "\n",
            "✅ Evaluation Result\n",
            "⭐ Score: ⭐⭐⭐\n",
            "📘 Explanation: The domain uses '.com', a common commercial or unknown-level domain. Limited credibility added. The URL belongs to a recognized academic or research repository (nature.com), which strongly supports credibility. No recent year detected in the URL, which may indicate outdated content. A simulated ML model rated this source with 0.67 credibility, boosting overall trust slightly.\n"
          ]
        }
      ],
      "source": [
        "!pip install tldextract\n",
        "import tldextract\n",
        "from urllib.parse import urlparse\n",
        "import re\n",
        "import random\n",
        "\n",
        "# Simulated ML Scorer (placeholder)\n",
        "def simulate_ml_score():\n",
        "    return round(random.uniform(0.6, 0.95), 2)\n",
        "\n",
        "# Convert numerical score to emoji star rating\n",
        "def star_rating(score):\n",
        "    if score >= 0.9:\n",
        "        return \"⭐⭐⭐⭐⭐\"\n",
        "    elif score >= 0.75:\n",
        "        return \"⭐⭐⭐⭐\"\n",
        "    elif score >= 0.6:\n",
        "        return \"⭐⭐⭐\"\n",
        "    elif score >= 0.4:\n",
        "        return \"⭐⭐\"\n",
        "    else:\n",
        "        return \"⭐\"\n",
        "\n",
        "# Rule-based credibility checker\n",
        "def evaluate_credibility(url: str) -> dict:\n",
        "    explanation_parts = []\n",
        "    score = 0\n",
        "\n",
        "    # Extract domain\n",
        "    ext = tldextract.extract(url)\n",
        "    domain = f\"{ext.domain}.{ext.suffix}\"\n",
        "\n",
        "        # Rule 1: Domain suffix trust\n",
        "    if ext.suffix in [\"edu\", \"gov\"]:\n",
        "        score += 0.3\n",
        "        explanation_parts.append(f\"The domain suffix '.{ext.suffix}' indicates a government or academic institution, generally considered highly credible.\")\n",
        "    elif ext.suffix == \"org\":\n",
        "        score += 0.2\n",
        "        explanation_parts.append(f\"'.org' domains often belong to non-profits or institutions, which adds moderate credibility.\")\n",
        "    else:\n",
        "        score += 0.1\n",
        "        explanation_parts.append(f\"The domain uses '.{ext.suffix}', a common commercial or unknown-level domain. Limited credibility added.\")\n",
        "\n",
        "    # Rule 2: Trusted source database\n",
        "    trusted_sources = [\"nature.com\", \"sciencedirect.com\", \"springer.com\", \"jstor.org\", \"arxiv.org\"]\n",
        "    if any(t in url for t in trusted_sources):\n",
        "        score += 0.4\n",
        "        explanation_parts.append(f\"The URL belongs to a recognized academic or research repository ({domain}), which strongly supports credibility.\")\n",
        "    else:\n",
        "        explanation_parts.append(f\"{domain} is not recognized in the list of top scholarly repositories, slightly lowering confidence.\")\n",
        "\n",
        "    # Rule 3: Publication date recency\n",
        "    if re.search(r\"/20\\d{2}/\", url):\n",
        "        score += 0.1\n",
        "        explanation_parts.append(\"The URL contains a recent year (post-2000), which suggests the source may be up-to-date.\")\n",
        "    else:\n",
        "        explanation_parts.append(\"No recent year detected in the URL, which may indicate outdated content.\")\n",
        "\n",
        "    # Rule 4: Simulated ML score\n",
        "    ml_score = simulate_ml_score()\n",
        "    score += ml_score * 0.2\n",
        "    explanation_parts.append(f\"A simulated ML model rated this source with {ml_score} credibility, boosting overall trust slightly.\")\n",
        "\n",
        "    # Normalize score\n",
        "    final_score = min(round(score, 2), 1.0)\n",
        "    stars = star_rating(final_score)\n",
        "    explanation = \" \".join(explanation_parts)\n",
        "\n",
        "    return {\"score\": stars, \"explanation\": explanation}\n",
        "\n",
        "\n",
        "# Run interactively\n",
        "if __name__ == \"__main__\":\n",
        "    print(\"🔍 Credibility Checker\")\n",
        "    url_input = input(\"Enter a URL to evaluate: \").strip()\n",
        "    if not url_input.startswith(\"http\"):\n",
        "        print(\"⚠️ Please include 'http://' or 'https://' in the URL.\")\n",
        "    else:\n",
        "        result = evaluate_credibility(url_input)\n",
        "        print(\"\\n✅ Evaluation Result\")\n",
        "        print(f\"⭐ Score: {result['score']}\")\n",
        "        print(f\"📘 Explanation: {result['explanation']}\")"
      ]
    }
  ]
}